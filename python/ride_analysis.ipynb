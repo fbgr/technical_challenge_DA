{
 "cells": [
  {
   "cell_type": "markdown",
   "id": "6cb9b6cd",
   "metadata": {},
   "source": [
    "# 0. Importing modules and handy functions"
   ]
  },
  {
   "cell_type": "code",
   "execution_count": 96,
   "id": "6a06d05a",
   "metadata": {},
   "outputs": [],
   "source": [
    "# Standard modules\n",
    "import pandas as pd\n",
    "import numpy as np\n",
    "import seaborn as sns\n",
    "import matplotlib.pyplot as plt\n",
    "import matplotlib\n",
    "\n",
    "# Modeling modules\n",
    "from sklearn.model_selection import train_test_split\n",
    "from sklearn.preprocessing import MinMaxScaler\n",
    "from sklearn.preprocessing import OneHotEncoder\n",
    "from sklearn.neighbors import KNeighborsRegressor\n",
    "from sklearn.linear_model import LinearRegression\n",
    "from sklearn.ensemble import RandomForestRegressor\n",
    "from sklearn.tree import DecisionTreeRegressor\n",
    "from sklearn.model_selection import cross_val_score\n",
    "from sklearn.metrics import mean_squared_error, r2_score"
   ]
  },
  {
   "cell_type": "code",
   "execution_count": 112,
   "id": "a43acb35",
   "metadata": {},
   "outputs": [],
   "source": [
    "# function to modify graph parameters\n",
    "def cute_graph(title=None, xlabel = None, ylabel = None, xticklabels = None):\n",
    "    # Handy function that changes several parameters of the plot \n",
    "    # to make it look a bit better. \n",
    "    \n",
    "    sns.despine(bottom = True, left = True)\n",
    "    ax.bar_label(ax.containers[0], fmt='%.3g')\n",
    "    plt.tick_params(labelleft=False, left=False)\n",
    "    \n",
    "    if title != None:\n",
    "        if len(title) == 2:\n",
    "            plt.title(title[0],fontsize=title[1])\n",
    "        else:\n",
    "            plt.title(title)\n",
    "            \n",
    "    if xlabel != None:\n",
    "        if len(xlabel) == 2:\n",
    "            plt.xlabel(xlabel[0],fontsize=xlabel[1])\n",
    "        else:\n",
    "            plt.xlabel(xlabel)\n",
    "                   \n",
    "    if ylabel != None:\n",
    "        if len(ylabel) == 2:\n",
    "            plt.ylabel(ylabel[0],fontsize=ylabel[1])\n",
    "        else:\n",
    "            plt.ylabel(ylabel)\n",
    "    \n",
    "    if xticklabels != None:\n",
    "        ax.set(xticklabels=xticklabels)\n",
    "        \n",
    "    ax.xaxis.set_ticks_position('none') \n",
    "    return"
   ]
  },
  {
   "cell_type": "markdown",
   "id": "0e8e6590",
   "metadata": {},
   "source": [
    "# 1. Reading data"
   ]
  },
  {
   "cell_type": "code",
   "execution_count": 2,
   "id": "a447f510",
   "metadata": {},
   "outputs": [
    {
     "data": {
      "text/html": [
       "<div>\n",
       "<style scoped>\n",
       "    .dataframe tbody tr th:only-of-type {\n",
       "        vertical-align: middle;\n",
       "    }\n",
       "\n",
       "    .dataframe tbody tr th {\n",
       "        vertical-align: top;\n",
       "    }\n",
       "\n",
       "    .dataframe thead th {\n",
       "        text-align: right;\n",
       "    }\n",
       "</style>\n",
       "<table border=\"1\" class=\"dataframe\">\n",
       "  <thead>\n",
       "    <tr style=\"text-align: right;\">\n",
       "      <th></th>\n",
       "      <th>distance</th>\n",
       "      <th>consume</th>\n",
       "      <th>speed</th>\n",
       "      <th>temp_inside</th>\n",
       "      <th>temp_outside</th>\n",
       "      <th>specials</th>\n",
       "      <th>gas_type</th>\n",
       "      <th>AC</th>\n",
       "      <th>rain</th>\n",
       "      <th>sun</th>\n",
       "      <th>refill liters</th>\n",
       "      <th>refill gas</th>\n",
       "    </tr>\n",
       "  </thead>\n",
       "  <tbody>\n",
       "    <tr>\n",
       "      <th>0</th>\n",
       "      <td>28.0</td>\n",
       "      <td>5.0</td>\n",
       "      <td>26</td>\n",
       "      <td>21.5</td>\n",
       "      <td>12</td>\n",
       "      <td>NaN</td>\n",
       "      <td>E10</td>\n",
       "      <td>0</td>\n",
       "      <td>0</td>\n",
       "      <td>0</td>\n",
       "      <td>45.0</td>\n",
       "      <td>E10</td>\n",
       "    </tr>\n",
       "    <tr>\n",
       "      <th>1</th>\n",
       "      <td>12.0</td>\n",
       "      <td>4.2</td>\n",
       "      <td>30</td>\n",
       "      <td>21.5</td>\n",
       "      <td>13</td>\n",
       "      <td>NaN</td>\n",
       "      <td>E10</td>\n",
       "      <td>0</td>\n",
       "      <td>0</td>\n",
       "      <td>0</td>\n",
       "      <td>NaN</td>\n",
       "      <td>NaN</td>\n",
       "    </tr>\n",
       "    <tr>\n",
       "      <th>2</th>\n",
       "      <td>11.2</td>\n",
       "      <td>5.5</td>\n",
       "      <td>38</td>\n",
       "      <td>21.5</td>\n",
       "      <td>15</td>\n",
       "      <td>NaN</td>\n",
       "      <td>E10</td>\n",
       "      <td>0</td>\n",
       "      <td>0</td>\n",
       "      <td>0</td>\n",
       "      <td>NaN</td>\n",
       "      <td>NaN</td>\n",
       "    </tr>\n",
       "    <tr>\n",
       "      <th>3</th>\n",
       "      <td>12.9</td>\n",
       "      <td>3.9</td>\n",
       "      <td>36</td>\n",
       "      <td>21.5</td>\n",
       "      <td>14</td>\n",
       "      <td>NaN</td>\n",
       "      <td>E10</td>\n",
       "      <td>0</td>\n",
       "      <td>0</td>\n",
       "      <td>0</td>\n",
       "      <td>NaN</td>\n",
       "      <td>NaN</td>\n",
       "    </tr>\n",
       "    <tr>\n",
       "      <th>4</th>\n",
       "      <td>18.5</td>\n",
       "      <td>4.5</td>\n",
       "      <td>46</td>\n",
       "      <td>21.5</td>\n",
       "      <td>15</td>\n",
       "      <td>NaN</td>\n",
       "      <td>E10</td>\n",
       "      <td>0</td>\n",
       "      <td>0</td>\n",
       "      <td>0</td>\n",
       "      <td>NaN</td>\n",
       "      <td>NaN</td>\n",
       "    </tr>\n",
       "  </tbody>\n",
       "</table>\n",
       "</div>"
      ],
      "text/plain": [
       "   distance  consume  speed  temp_inside  temp_outside specials gas_type  AC  \\\n",
       "0      28.0      5.0     26         21.5            12      NaN      E10   0   \n",
       "1      12.0      4.2     30         21.5            13      NaN      E10   0   \n",
       "2      11.2      5.5     38         21.5            15      NaN      E10   0   \n",
       "3      12.9      3.9     36         21.5            14      NaN      E10   0   \n",
       "4      18.5      4.5     46         21.5            15      NaN      E10   0   \n",
       "\n",
       "   rain  sun  refill liters refill gas  \n",
       "0     0    0           45.0        E10  \n",
       "1     0    0            NaN        NaN  \n",
       "2     0    0            NaN        NaN  \n",
       "3     0    0            NaN        NaN  \n",
       "4     0    0            NaN        NaN  "
      ]
     },
     "execution_count": 2,
     "metadata": {},
     "output_type": "execute_result"
    }
   ],
   "source": [
    "# Reading the rides data\n",
    "rides = pd.read_csv('../data/measurements.csv',decimal=',')\n",
    "rides.head()"
   ]
  },
  {
   "cell_type": "markdown",
   "id": "c969e3df",
   "metadata": {},
   "source": [
    "# 2. Cleaning data"
   ]
  },
  {
   "cell_type": "code",
   "execution_count": 3,
   "id": "e211efc1",
   "metadata": {},
   "outputs": [
    {
     "data": {
      "text/plain": [
       "distance         float64\n",
       "consume          float64\n",
       "speed              int64\n",
       "temp_inside      float64\n",
       "temp_outside       int64\n",
       "specials          object\n",
       "gas_type          object\n",
       "AC                 int64\n",
       "rain               int64\n",
       "sun                int64\n",
       "refill liters    float64\n",
       "refill gas        object\n",
       "dtype: object"
      ]
     },
     "execution_count": 3,
     "metadata": {},
     "output_type": "execute_result"
    }
   ],
   "source": [
    "# Checking that each column is correctly classified\n",
    "rides.dtypes"
   ]
  },
  {
   "cell_type": "markdown",
   "id": "7f95a95b",
   "metadata": {},
   "source": [
    "## 2.1 Cleaning NaNs"
   ]
  },
  {
   "cell_type": "code",
   "execution_count": 4,
   "id": "8da69e6f",
   "metadata": {},
   "outputs": [],
   "source": [
    "# Let's deal with \"specials\" column NaNs. These are actually rides where the is nothing special, so I'll \n",
    "# name that category as \"normal\"\n",
    "rides['specials'] = rides['specials'].fillna('normal')"
   ]
  },
  {
   "cell_type": "code",
   "execution_count": 5,
   "id": "da4c3f20",
   "metadata": {},
   "outputs": [],
   "source": [
    "rides = rides.copy()\n",
    "# We still have more NaNs to treat frm refill liters and refill gas. The ones on \"refill gas\"\n",
    "# are equal to no refilling, so I'll switch then with the category \"No\", and hence the \"refill liters\"\n",
    "# should be zero.\n",
    "rides['refill liters'] = rides['refill liters'].fillna(0)\n",
    "rides['refill gas'] = rides['refill gas'].fillna('No')"
   ]
  },
  {
   "cell_type": "code",
   "execution_count": 6,
   "id": "8c1934b0",
   "metadata": {},
   "outputs": [
    {
     "data": {
      "text/html": [
       "<div>\n",
       "<style scoped>\n",
       "    .dataframe tbody tr th:only-of-type {\n",
       "        vertical-align: middle;\n",
       "    }\n",
       "\n",
       "    .dataframe tbody tr th {\n",
       "        vertical-align: top;\n",
       "    }\n",
       "\n",
       "    .dataframe thead th {\n",
       "        text-align: right;\n",
       "    }\n",
       "</style>\n",
       "<table border=\"1\" class=\"dataframe\">\n",
       "  <thead>\n",
       "    <tr style=\"text-align: right;\">\n",
       "      <th></th>\n",
       "      <th>distance</th>\n",
       "      <th>consume</th>\n",
       "      <th>speed</th>\n",
       "      <th>temp_inside</th>\n",
       "      <th>temp_outside</th>\n",
       "      <th>specials</th>\n",
       "      <th>gas_type</th>\n",
       "      <th>AC</th>\n",
       "      <th>rain</th>\n",
       "      <th>sun</th>\n",
       "      <th>refill liters</th>\n",
       "      <th>refill gas</th>\n",
       "    </tr>\n",
       "  </thead>\n",
       "  <tbody>\n",
       "    <tr>\n",
       "      <th>93</th>\n",
       "      <td>12.4</td>\n",
       "      <td>4.7</td>\n",
       "      <td>43</td>\n",
       "      <td>NaN</td>\n",
       "      <td>10</td>\n",
       "      <td>normal</td>\n",
       "      <td>SP98</td>\n",
       "      <td>0</td>\n",
       "      <td>0</td>\n",
       "      <td>0</td>\n",
       "      <td>0.0</td>\n",
       "      <td>No</td>\n",
       "    </tr>\n",
       "    <tr>\n",
       "      <th>95</th>\n",
       "      <td>11.8</td>\n",
       "      <td>5.3</td>\n",
       "      <td>52</td>\n",
       "      <td>NaN</td>\n",
       "      <td>11</td>\n",
       "      <td>normal</td>\n",
       "      <td>SP98</td>\n",
       "      <td>0</td>\n",
       "      <td>0</td>\n",
       "      <td>0</td>\n",
       "      <td>0.0</td>\n",
       "      <td>No</td>\n",
       "    </tr>\n",
       "    <tr>\n",
       "      <th>97</th>\n",
       "      <td>15.7</td>\n",
       "      <td>5.3</td>\n",
       "      <td>33</td>\n",
       "      <td>NaN</td>\n",
       "      <td>9</td>\n",
       "      <td>normal</td>\n",
       "      <td>SP98</td>\n",
       "      <td>0</td>\n",
       "      <td>0</td>\n",
       "      <td>0</td>\n",
       "      <td>0.0</td>\n",
       "      <td>No</td>\n",
       "    </tr>\n",
       "    <tr>\n",
       "      <th>98</th>\n",
       "      <td>12.9</td>\n",
       "      <td>5.7</td>\n",
       "      <td>35</td>\n",
       "      <td>NaN</td>\n",
       "      <td>9</td>\n",
       "      <td>normal</td>\n",
       "      <td>SP98</td>\n",
       "      <td>0</td>\n",
       "      <td>0</td>\n",
       "      <td>0</td>\n",
       "      <td>0.0</td>\n",
       "      <td>No</td>\n",
       "    </tr>\n",
       "    <tr>\n",
       "      <th>99</th>\n",
       "      <td>6.4</td>\n",
       "      <td>4.4</td>\n",
       "      <td>37</td>\n",
       "      <td>NaN</td>\n",
       "      <td>10</td>\n",
       "      <td>normal</td>\n",
       "      <td>SP98</td>\n",
       "      <td>0</td>\n",
       "      <td>0</td>\n",
       "      <td>0</td>\n",
       "      <td>0.0</td>\n",
       "      <td>No</td>\n",
       "    </tr>\n",
       "    <tr>\n",
       "      <th>100</th>\n",
       "      <td>5.3</td>\n",
       "      <td>4.1</td>\n",
       "      <td>34</td>\n",
       "      <td>NaN</td>\n",
       "      <td>9</td>\n",
       "      <td>normal</td>\n",
       "      <td>SP98</td>\n",
       "      <td>0</td>\n",
       "      <td>0</td>\n",
       "      <td>0</td>\n",
       "      <td>0.0</td>\n",
       "      <td>No</td>\n",
       "    </tr>\n",
       "    <tr>\n",
       "      <th>102</th>\n",
       "      <td>18.8</td>\n",
       "      <td>5.0</td>\n",
       "      <td>62</td>\n",
       "      <td>NaN</td>\n",
       "      <td>9</td>\n",
       "      <td>rain</td>\n",
       "      <td>SP98</td>\n",
       "      <td>0</td>\n",
       "      <td>1</td>\n",
       "      <td>0</td>\n",
       "      <td>0.0</td>\n",
       "      <td>No</td>\n",
       "    </tr>\n",
       "    <tr>\n",
       "      <th>201</th>\n",
       "      <td>22.2</td>\n",
       "      <td>3.8</td>\n",
       "      <td>42</td>\n",
       "      <td>NaN</td>\n",
       "      <td>15</td>\n",
       "      <td>normal</td>\n",
       "      <td>SP98</td>\n",
       "      <td>0</td>\n",
       "      <td>0</td>\n",
       "      <td>0</td>\n",
       "      <td>0.0</td>\n",
       "      <td>No</td>\n",
       "    </tr>\n",
       "    <tr>\n",
       "      <th>203</th>\n",
       "      <td>12.6</td>\n",
       "      <td>4.1</td>\n",
       "      <td>33</td>\n",
       "      <td>NaN</td>\n",
       "      <td>17</td>\n",
       "      <td>normal</td>\n",
       "      <td>SP98</td>\n",
       "      <td>0</td>\n",
       "      <td>0</td>\n",
       "      <td>0</td>\n",
       "      <td>0.0</td>\n",
       "      <td>No</td>\n",
       "    </tr>\n",
       "    <tr>\n",
       "      <th>261</th>\n",
       "      <td>24.5</td>\n",
       "      <td>3.9</td>\n",
       "      <td>50</td>\n",
       "      <td>NaN</td>\n",
       "      <td>15</td>\n",
       "      <td>sun</td>\n",
       "      <td>E10</td>\n",
       "      <td>0</td>\n",
       "      <td>0</td>\n",
       "      <td>1</td>\n",
       "      <td>0.0</td>\n",
       "      <td>No</td>\n",
       "    </tr>\n",
       "    <tr>\n",
       "      <th>267</th>\n",
       "      <td>22.9</td>\n",
       "      <td>4.0</td>\n",
       "      <td>29</td>\n",
       "      <td>NaN</td>\n",
       "      <td>21</td>\n",
       "      <td>normal</td>\n",
       "      <td>E10</td>\n",
       "      <td>0</td>\n",
       "      <td>0</td>\n",
       "      <td>0</td>\n",
       "      <td>0.0</td>\n",
       "      <td>No</td>\n",
       "    </tr>\n",
       "    <tr>\n",
       "      <th>268</th>\n",
       "      <td>16.0</td>\n",
       "      <td>3.8</td>\n",
       "      <td>42</td>\n",
       "      <td>NaN</td>\n",
       "      <td>8</td>\n",
       "      <td>normal</td>\n",
       "      <td>E10</td>\n",
       "      <td>0</td>\n",
       "      <td>0</td>\n",
       "      <td>0</td>\n",
       "      <td>0.0</td>\n",
       "      <td>No</td>\n",
       "    </tr>\n",
       "  </tbody>\n",
       "</table>\n",
       "</div>"
      ],
      "text/plain": [
       "     distance  consume  speed  temp_inside  temp_outside specials gas_type  \\\n",
       "93       12.4      4.7     43          NaN            10   normal     SP98   \n",
       "95       11.8      5.3     52          NaN            11   normal     SP98   \n",
       "97       15.7      5.3     33          NaN             9   normal     SP98   \n",
       "98       12.9      5.7     35          NaN             9   normal     SP98   \n",
       "99        6.4      4.4     37          NaN            10   normal     SP98   \n",
       "100       5.3      4.1     34          NaN             9   normal     SP98   \n",
       "102      18.8      5.0     62          NaN             9     rain     SP98   \n",
       "201      22.2      3.8     42          NaN            15   normal     SP98   \n",
       "203      12.6      4.1     33          NaN            17   normal     SP98   \n",
       "261      24.5      3.9     50          NaN            15      sun      E10   \n",
       "267      22.9      4.0     29          NaN            21   normal      E10   \n",
       "268      16.0      3.8     42          NaN             8   normal      E10   \n",
       "\n",
       "     AC  rain  sun  refill liters refill gas  \n",
       "93    0     0    0            0.0         No  \n",
       "95    0     0    0            0.0         No  \n",
       "97    0     0    0            0.0         No  \n",
       "98    0     0    0            0.0         No  \n",
       "99    0     0    0            0.0         No  \n",
       "100   0     0    0            0.0         No  \n",
       "102   0     1    0            0.0         No  \n",
       "201   0     0    0            0.0         No  \n",
       "203   0     0    0            0.0         No  \n",
       "261   0     0    1            0.0         No  \n",
       "267   0     0    0            0.0         No  \n",
       "268   0     0    0            0.0         No  "
      ]
     },
     "execution_count": 6,
     "metadata": {},
     "output_type": "execute_result"
    }
   ],
   "source": [
    "# We do also have 12 NaNs in some rides where the driver did not note the temperature inside the car. \n",
    "rides[rides['temp_inside'].isna()]"
   ]
  },
  {
   "cell_type": "code",
   "execution_count": 7,
   "id": "98eff535",
   "metadata": {},
   "outputs": [],
   "source": [
    "# 12 might no seem huge, but when we notice that our database only have 388 rows, then it's a problem. Instead\n",
    "# of getting rid of these columns, we will use the mean temp_inside as an aproximation.\n",
    "rides['temp_inside'] = rides['temp_inside'].fillna(round(rides['temp_inside'].mean(),1))"
   ]
  },
  {
   "cell_type": "markdown",
   "id": "e8af0322",
   "metadata": {},
   "source": [
    "## 2.2 Dealing with categories"
   ]
  },
  {
   "cell_type": "markdown",
   "id": "b3143fae",
   "metadata": {},
   "source": [
    "We can see that the column \"specials\" is the combination of the columns AC, rain and sun. But if we have a closer look at the unique values of specials, we can see that we have no column for snow. We can't miss that column because even if it did not rain and it was not very sunny, we still do not know if it snowed or not. So we need that column and I'll create it."
   ]
  },
  {
   "cell_type": "code",
   "execution_count": 8,
   "id": "7514868a",
   "metadata": {},
   "outputs": [
    {
     "data": {
      "text/plain": [
       "array(['normal', 'AC rain', 'AC', 'rain', 'snow', 'AC snow',\n",
       "       'half rain half sun', 'sun', 'AC sun', 'sun ac', 'ac', 'AC Sun',\n",
       "       'ac rain'], dtype=object)"
      ]
     },
     "execution_count": 8,
     "metadata": {},
     "output_type": "execute_result"
    }
   ],
   "source": [
    "rides['specials'].unique()"
   ]
  },
  {
   "cell_type": "code",
   "execution_count": 9,
   "id": "f4405278",
   "metadata": {},
   "outputs": [],
   "source": [
    "# Creating a column equal to 1 if 'specials' contains the word snow\n",
    "rides['snow'] = rides['specials'].apply(lambda x: np.where('snow' in x,1,0))\n",
    "\n",
    "# Rearranging the order of columns and dropping the (useless now) 'specials' column\n",
    "rides = rides[['distance', 'consume', 'speed', 'temp_inside', 'temp_outside', 'gas_type', 'AC', 'rain',\n",
    "         'sun', 'snow', 'refill liters','refill gas']]"
   ]
  },
  {
   "cell_type": "code",
   "execution_count": 10,
   "id": "1594ac62",
   "metadata": {},
   "outputs": [
    {
     "data": {
      "text/html": [
       "<div>\n",
       "<style scoped>\n",
       "    .dataframe tbody tr th:only-of-type {\n",
       "        vertical-align: middle;\n",
       "    }\n",
       "\n",
       "    .dataframe tbody tr th {\n",
       "        vertical-align: top;\n",
       "    }\n",
       "\n",
       "    .dataframe thead th {\n",
       "        text-align: right;\n",
       "    }\n",
       "</style>\n",
       "<table border=\"1\" class=\"dataframe\">\n",
       "  <thead>\n",
       "    <tr style=\"text-align: right;\">\n",
       "      <th></th>\n",
       "      <th>distance</th>\n",
       "      <th>consume</th>\n",
       "      <th>speed</th>\n",
       "      <th>temp_inside</th>\n",
       "      <th>temp_outside</th>\n",
       "      <th>gas_type</th>\n",
       "      <th>AC</th>\n",
       "      <th>rain</th>\n",
       "      <th>sun</th>\n",
       "      <th>snow</th>\n",
       "      <th>refill liters</th>\n",
       "      <th>refill gas</th>\n",
       "    </tr>\n",
       "  </thead>\n",
       "  <tbody>\n",
       "    <tr>\n",
       "      <th>0</th>\n",
       "      <td>28.0</td>\n",
       "      <td>5.0</td>\n",
       "      <td>26</td>\n",
       "      <td>21.5</td>\n",
       "      <td>12</td>\n",
       "      <td>E10</td>\n",
       "      <td>0</td>\n",
       "      <td>0</td>\n",
       "      <td>0</td>\n",
       "      <td>0</td>\n",
       "      <td>45.0</td>\n",
       "      <td>E10</td>\n",
       "    </tr>\n",
       "    <tr>\n",
       "      <th>1</th>\n",
       "      <td>12.0</td>\n",
       "      <td>4.2</td>\n",
       "      <td>30</td>\n",
       "      <td>21.5</td>\n",
       "      <td>13</td>\n",
       "      <td>E10</td>\n",
       "      <td>0</td>\n",
       "      <td>0</td>\n",
       "      <td>0</td>\n",
       "      <td>0</td>\n",
       "      <td>0.0</td>\n",
       "      <td>No</td>\n",
       "    </tr>\n",
       "    <tr>\n",
       "      <th>2</th>\n",
       "      <td>11.2</td>\n",
       "      <td>5.5</td>\n",
       "      <td>38</td>\n",
       "      <td>21.5</td>\n",
       "      <td>15</td>\n",
       "      <td>E10</td>\n",
       "      <td>0</td>\n",
       "      <td>0</td>\n",
       "      <td>0</td>\n",
       "      <td>0</td>\n",
       "      <td>0.0</td>\n",
       "      <td>No</td>\n",
       "    </tr>\n",
       "    <tr>\n",
       "      <th>3</th>\n",
       "      <td>12.9</td>\n",
       "      <td>3.9</td>\n",
       "      <td>36</td>\n",
       "      <td>21.5</td>\n",
       "      <td>14</td>\n",
       "      <td>E10</td>\n",
       "      <td>0</td>\n",
       "      <td>0</td>\n",
       "      <td>0</td>\n",
       "      <td>0</td>\n",
       "      <td>0.0</td>\n",
       "      <td>No</td>\n",
       "    </tr>\n",
       "    <tr>\n",
       "      <th>4</th>\n",
       "      <td>18.5</td>\n",
       "      <td>4.5</td>\n",
       "      <td>46</td>\n",
       "      <td>21.5</td>\n",
       "      <td>15</td>\n",
       "      <td>E10</td>\n",
       "      <td>0</td>\n",
       "      <td>0</td>\n",
       "      <td>0</td>\n",
       "      <td>0</td>\n",
       "      <td>0.0</td>\n",
       "      <td>No</td>\n",
       "    </tr>\n",
       "  </tbody>\n",
       "</table>\n",
       "</div>"
      ],
      "text/plain": [
       "   distance  consume  speed  temp_inside  temp_outside gas_type  AC  rain  \\\n",
       "0      28.0      5.0     26         21.5            12      E10   0     0   \n",
       "1      12.0      4.2     30         21.5            13      E10   0     0   \n",
       "2      11.2      5.5     38         21.5            15      E10   0     0   \n",
       "3      12.9      3.9     36         21.5            14      E10   0     0   \n",
       "4      18.5      4.5     46         21.5            15      E10   0     0   \n",
       "\n",
       "   sun  snow  refill liters refill gas  \n",
       "0    0     0           45.0        E10  \n",
       "1    0     0            0.0         No  \n",
       "2    0     0            0.0         No  \n",
       "3    0     0            0.0         No  \n",
       "4    0     0            0.0         No  "
      ]
     },
     "metadata": {},
     "output_type": "display_data"
    },
    {
     "data": {
      "text/plain": [
       "0"
      ]
     },
     "execution_count": 10,
     "metadata": {},
     "output_type": "execute_result"
    }
   ],
   "source": [
    "display(rides.head())\n",
    "# We can also see we have no nans left\n",
    "rides.isna().sum().sum()"
   ]
  },
  {
   "cell_type": "code",
   "execution_count": 36,
   "id": "74a6d545",
   "metadata": {},
   "outputs": [],
   "source": [
    "# We're interested in the features that affect the consumption. That's why \"refill liters\" and \"refill gas\" \n",
    "# give us no value and should be dropped to avoid creating noise in the later model.\n",
    "rides = rides.drop(['refill liters','refill gas'],axis=1)"
   ]
  },
  {
   "cell_type": "code",
   "execution_count": 126,
   "id": "3bbda93f",
   "metadata": {},
   "outputs": [],
   "source": [
    "#Saving the clean csv\n",
    "rides.to_csv('../data/clean_rides.csv',index=False)"
   ]
  },
  {
   "cell_type": "markdown",
   "id": "eb35d83b",
   "metadata": {},
   "source": [
    "# 3. Exploratory data analysis"
   ]
  },
  {
   "cell_type": "code",
   "execution_count": 37,
   "id": "de75ba03",
   "metadata": {},
   "outputs": [
    {
     "data": {
      "text/html": [
       "<div>\n",
       "<style scoped>\n",
       "    .dataframe tbody tr th:only-of-type {\n",
       "        vertical-align: middle;\n",
       "    }\n",
       "\n",
       "    .dataframe tbody tr th {\n",
       "        vertical-align: top;\n",
       "    }\n",
       "\n",
       "    .dataframe thead th {\n",
       "        text-align: right;\n",
       "    }\n",
       "</style>\n",
       "<table border=\"1\" class=\"dataframe\">\n",
       "  <thead>\n",
       "    <tr style=\"text-align: right;\">\n",
       "      <th></th>\n",
       "      <th>count</th>\n",
       "      <th>mean</th>\n",
       "      <th>std</th>\n",
       "      <th>min</th>\n",
       "      <th>25%</th>\n",
       "      <th>50%</th>\n",
       "      <th>75%</th>\n",
       "      <th>max</th>\n",
       "    </tr>\n",
       "  </thead>\n",
       "  <tbody>\n",
       "    <tr>\n",
       "      <th>distance</th>\n",
       "      <td>388.0</td>\n",
       "      <td>19.652835</td>\n",
       "      <td>22.667837</td>\n",
       "      <td>1.3</td>\n",
       "      <td>11.80</td>\n",
       "      <td>14.6</td>\n",
       "      <td>19.0</td>\n",
       "      <td>216.1</td>\n",
       "    </tr>\n",
       "    <tr>\n",
       "      <th>consume</th>\n",
       "      <td>388.0</td>\n",
       "      <td>4.912371</td>\n",
       "      <td>1.033172</td>\n",
       "      <td>3.3</td>\n",
       "      <td>4.30</td>\n",
       "      <td>4.7</td>\n",
       "      <td>5.3</td>\n",
       "      <td>12.2</td>\n",
       "    </tr>\n",
       "    <tr>\n",
       "      <th>speed</th>\n",
       "      <td>388.0</td>\n",
       "      <td>41.927835</td>\n",
       "      <td>13.598524</td>\n",
       "      <td>14.0</td>\n",
       "      <td>32.75</td>\n",
       "      <td>40.5</td>\n",
       "      <td>50.0</td>\n",
       "      <td>90.0</td>\n",
       "    </tr>\n",
       "    <tr>\n",
       "      <th>temp_inside</th>\n",
       "      <td>388.0</td>\n",
       "      <td>21.928608</td>\n",
       "      <td>0.994679</td>\n",
       "      <td>19.0</td>\n",
       "      <td>21.50</td>\n",
       "      <td>22.0</td>\n",
       "      <td>22.5</td>\n",
       "      <td>25.5</td>\n",
       "    </tr>\n",
       "    <tr>\n",
       "      <th>temp_outside</th>\n",
       "      <td>388.0</td>\n",
       "      <td>11.358247</td>\n",
       "      <td>6.991542</td>\n",
       "      <td>-5.0</td>\n",
       "      <td>7.00</td>\n",
       "      <td>10.0</td>\n",
       "      <td>16.0</td>\n",
       "      <td>31.0</td>\n",
       "    </tr>\n",
       "    <tr>\n",
       "      <th>AC</th>\n",
       "      <td>388.0</td>\n",
       "      <td>0.077320</td>\n",
       "      <td>0.267443</td>\n",
       "      <td>0.0</td>\n",
       "      <td>0.00</td>\n",
       "      <td>0.0</td>\n",
       "      <td>0.0</td>\n",
       "      <td>1.0</td>\n",
       "    </tr>\n",
       "    <tr>\n",
       "      <th>rain</th>\n",
       "      <td>388.0</td>\n",
       "      <td>0.123711</td>\n",
       "      <td>0.329677</td>\n",
       "      <td>0.0</td>\n",
       "      <td>0.00</td>\n",
       "      <td>0.0</td>\n",
       "      <td>0.0</td>\n",
       "      <td>1.0</td>\n",
       "    </tr>\n",
       "    <tr>\n",
       "      <th>sun</th>\n",
       "      <td>388.0</td>\n",
       "      <td>0.082474</td>\n",
       "      <td>0.275441</td>\n",
       "      <td>0.0</td>\n",
       "      <td>0.00</td>\n",
       "      <td>0.0</td>\n",
       "      <td>0.0</td>\n",
       "      <td>1.0</td>\n",
       "    </tr>\n",
       "    <tr>\n",
       "      <th>snow</th>\n",
       "      <td>388.0</td>\n",
       "      <td>0.010309</td>\n",
       "      <td>0.101140</td>\n",
       "      <td>0.0</td>\n",
       "      <td>0.00</td>\n",
       "      <td>0.0</td>\n",
       "      <td>0.0</td>\n",
       "      <td>1.0</td>\n",
       "    </tr>\n",
       "  </tbody>\n",
       "</table>\n",
       "</div>"
      ],
      "text/plain": [
       "              count       mean        std   min    25%   50%   75%    max\n",
       "distance      388.0  19.652835  22.667837   1.3  11.80  14.6  19.0  216.1\n",
       "consume       388.0   4.912371   1.033172   3.3   4.30   4.7   5.3   12.2\n",
       "speed         388.0  41.927835  13.598524  14.0  32.75  40.5  50.0   90.0\n",
       "temp_inside   388.0  21.928608   0.994679  19.0  21.50  22.0  22.5   25.5\n",
       "temp_outside  388.0  11.358247   6.991542  -5.0   7.00  10.0  16.0   31.0\n",
       "AC            388.0   0.077320   0.267443   0.0   0.00   0.0   0.0    1.0\n",
       "rain          388.0   0.123711   0.329677   0.0   0.00   0.0   0.0    1.0\n",
       "sun           388.0   0.082474   0.275441   0.0   0.00   0.0   0.0    1.0\n",
       "snow          388.0   0.010309   0.101140   0.0   0.00   0.0   0.0    1.0"
      ]
     },
     "execution_count": 37,
     "metadata": {},
     "output_type": "execute_result"
    }
   ],
   "source": [
    "# Checking general parameters of our data\n",
    "rides.describe().T"
   ]
  },
  {
   "cell_type": "code",
   "execution_count": 106,
   "id": "807dff2e",
   "metadata": {},
   "outputs": [
    {
     "data": {
      "image/png": "[encoded data removed]",
      "text/plain": [
       "<Figure size 640x480 with 1 Axes>"
      ]
     },
     "metadata": {},
     "output_type": "display_data"
    }
   ],
   "source": [
    "# Let's start by looking at the mean consumption for each type of combustible\n",
    "ax = sns.barplot(x='gas_type',y='consume',data=rides,errorbar = None)\n",
    "plt.title('Mean consumption by gas type')\n",
    "plt.xlabel('Gas type')\n",
    "plt.ylabel('Mean comsuption')\n",
    "cute_graph()\n",
    "plt.show()"
   ]
  },
  {
   "cell_type": "markdown",
   "id": "d19f3beb",
   "metadata": {},
   "source": [
    "At first glimpse, it seems that both fuels consume almost the same. But is this true? Let's see if we have the same conditions for both kind of rides (maybe one was used more in winter, leading to a higher consumption)."
   ]
  },
  {
   "cell_type": "code",
   "execution_count": 39,
   "id": "1f594386",
   "metadata": {},
   "outputs": [
    {
     "name": "stdout",
     "output_type": "stream",
     "text": [
      "E10 gast type rides have these proportion of conditions on its trips:\n",
      "rain    16\n",
      "sun     12\n",
      "snow     1\n",
      "dtype: int64\n",
      "\n",
      "SP98 gast type rides have these proportion of conditions on its trips:\n",
      "rain    32\n",
      "sun     20\n",
      "snow     3\n",
      "dtype: int64\n"
     ]
    }
   ],
   "source": [
    "print('E10 gast type rides have these proportion of conditions on its trips:')\n",
    "print(rides[rides.gas_type=='E10'][['rain','sun','snow']].sum())\n",
    "print('\\nSP98 gast type rides have these proportion of conditions on its trips:')\n",
    "print(rides[rides.gas_type=='SP98'][['rain','sun','snow']].sum())"
   ]
  },
  {
   "cell_type": "code",
   "execution_count": 40,
   "id": "13dece50",
   "metadata": {},
   "outputs": [
    {
     "name": "stdout",
     "output_type": "stream",
     "text": [
      "E10 gast type rides have these proportion of conditions on its trips:\n",
      "rain    55.172414\n",
      "sun     41.379310\n",
      "snow     3.448276\n",
      "dtype: float64\n",
      "\n",
      "SP98 gast type rides have these proportion of conditions on its trips:\n",
      "rain    58.181818\n",
      "sun     36.363636\n",
      "snow     5.454545\n",
      "dtype: float64\n"
     ]
    }
   ],
   "source": [
    "# We can look at this in an easier way by computing the percentages:\n",
    "\n",
    "print('E10 gast type rides have these proportion of conditions on its trips:')\n",
    "print(rides[rides.gas_type=='E10'][['rain','sun','snow']].sum()/rides[rides.gas_type=='E10'][['rain','sun','snow']].sum().sum()*100)\n",
    "print('\\nSP98 gast type rides have these proportion of conditions on its trips:')\n",
    "print(rides[rides.gas_type=='SP98'][['rain','sun','snow']].sum()/rides[rides.gas_type=='SP98'][['rain','sun','snow']].sum().sum()*100)"
   ]
  },
  {
   "cell_type": "code",
   "execution_count": 41,
   "id": "3656a581",
   "metadata": {},
   "outputs": [
    {
     "name": "stdout",
     "output_type": "stream",
     "text": [
      "E10 gast type rides have a mean temp_inside,temp_outside and speed of:\n",
      "temp_inside     21.916875\n",
      "temp_outside    10.118750\n",
      "speed           43.506250\n",
      "dtype: float64\n",
      "\n",
      "SP98 gast type rides have a mean temp_inside,temp_outside and speed of:\n",
      "temp_inside     21.936842\n",
      "temp_outside    12.228070\n",
      "speed           40.820175\n",
      "dtype: float64\n"
     ]
    }
   ],
   "source": [
    "print('E10 gast type rides have a mean temp_inside,temp_outside and speed of:')\n",
    "print(rides[rides.gas_type=='E10'][['temp_inside','temp_outside','speed']].mean())\n",
    "print('\\nSP98 gast type rides have a mean temp_inside,temp_outside and speed of:')\n",
    "print(rides[rides.gas_type=='SP98'][['temp_inside','temp_outside','speed']].mean())"
   ]
  },
  {
   "cell_type": "code",
   "execution_count": 42,
   "id": "797beea5",
   "metadata": {},
   "outputs": [],
   "source": [
    "# The conditions do change a bit for each kind of gas, but the difference are not huge, so we can't say if there\n",
    "# will be an impact because of this. Anyways, the model will take all of this parameters into account and notice\n",
    "# if they make (or not) a difference in consumption."
   ]
  },
  {
   "cell_type": "markdown",
   "id": "9d5756f5",
   "metadata": {},
   "source": [
    "# 4. Modeling"
   ]
  },
  {
   "cell_type": "markdown",
   "id": "6e685d22",
   "metadata": {},
   "source": [
    "## 4.1 X-Y Split"
   ]
  },
  {
   "cell_type": "code",
   "execution_count": 43,
   "id": "dab8c39b",
   "metadata": {},
   "outputs": [],
   "source": [
    "# Our target here is the consumption\n",
    "y = rides['consume']\n",
    "# And the rest are our independant variables\n",
    "X = rides.drop(['consume'],axis=1)"
   ]
  },
  {
   "cell_type": "markdown",
   "id": "34cde6dc",
   "metadata": {},
   "source": [
    "## 4.2 Train-test split"
   ]
  },
  {
   "cell_type": "code",
   "execution_count": 44,
   "id": "aacdb064",
   "metadata": {},
   "outputs": [],
   "source": [
    "# We'll split our data into test and trainning data to make sure the models is working as expected\n",
    "X_train, X_test, y_train, y_test = train_test_split(X, y, test_size=0.15)"
   ]
  },
  {
   "cell_type": "markdown",
   "id": "9252c774",
   "metadata": {},
   "source": [
    "## 4.3 Scaling numerical values"
   ]
  },
  {
   "cell_type": "code",
   "execution_count": 45,
   "id": "ff172946",
   "metadata": {},
   "outputs": [],
   "source": [
    "# Since we will try different models, and some of them require scaling in order to work as expected, \n",
    "# procceed to scale the numerical data\n",
    "X_train_numerical = X_train.select_dtypes(np.number)\n",
    "X_test_numerical = X_test.select_dtypes(np.number)"
   ]
  },
  {
   "cell_type": "code",
   "execution_count": 46,
   "id": "7d1fe3ee",
   "metadata": {},
   "outputs": [],
   "source": [
    "# Creating the transformer\n",
    "transformer = MinMaxScaler().fit(X_train_numerical)\n",
    "\n",
    "# Using it for the train data\n",
    "X_normalized = transformer.transform(X_train_numerical)\n",
    "X_normalized = pd.DataFrame(X_normalized, columns=X_train_numerical.columns)\n",
    "\n",
    "# Using it for the test data\n",
    "X_normalized_test = transformer.transform(X_test_numerical)\n",
    "X_normalized_test = pd.DataFrame(X_normalized_test, columns=X_test_numerical.columns)"
   ]
  },
  {
   "cell_type": "markdown",
   "id": "45a404c2",
   "metadata": {},
   "source": [
    "## 4.4 One-hot encoding categorical values"
   ]
  },
  {
   "cell_type": "code",
   "execution_count": 47,
   "id": "f8509cf8",
   "metadata": {},
   "outputs": [],
   "source": [
    "# Selecting categorical columns\n",
    "X_train_cat = X_train.select_dtypes(object)\n",
    "X_test_cat = X_test.select_dtypes(object)"
   ]
  },
  {
   "cell_type": "code",
   "execution_count": 49,
   "id": "c94a3f71",
   "metadata": {},
   "outputs": [],
   "source": [
    "# Creating the encoder\n",
    "encoder = OneHotEncoder(handle_unknown='error',drop='first').fit(X_train_cat)\n",
    "\n",
    "# Encoding train data\n",
    "encoded = encoder.transform(X_train_cat).toarray()\n",
    "onehot_encoded = pd.DataFrame(encoded,columns=encoder.get_feature_names_out(X_train_cat.columns))\n",
    "\n",
    "# Enconding test data\n",
    "encoded_test = encoder.transform(X_test_cat).toarray()\n",
    "onehot_encoded_test = pd.DataFrame(encoded_test,columns=encoder.get_feature_names_out(X_test_cat.columns))"
   ]
  },
  {
   "cell_type": "markdown",
   "id": "87919340",
   "metadata": {},
   "source": [
    "## 4.5 Concatenating everything together"
   ]
  },
  {
   "cell_type": "code",
   "execution_count": 59,
   "id": "82d390cd",
   "metadata": {},
   "outputs": [],
   "source": [
    "X_ready = pd.concat([X_normalized,onehot_encoded],axis=1)\n",
    "X_ready_test = pd.concat([X_normalized_test,onehot_encoded_test],axis=1)"
   ]
  },
  {
   "cell_type": "markdown",
   "id": "31e7220b",
   "metadata": {},
   "source": [
    "## 4.6 Pipeline: trying different models"
   ]
  },
  {
   "cell_type": "code",
   "execution_count": 88,
   "id": "63739727",
   "metadata": {},
   "outputs": [
    {
     "name": "stdout",
     "output_type": "stream",
     "text": [
      "{'Decision Tree Regressor': 0.27495094029198547, 'Linear Regression': 0.10049779008791293, 'KNN': 0.13265897049592068, 'Random Forest': 0.49240252764970516}\n"
     ]
    }
   ],
   "source": [
    "model1 = DecisionTreeRegressor()\n",
    "model2 = LinearRegression()\n",
    "model3 = KNeighborsRegressor()\n",
    "model4 = RandomForestRegressor()\n",
    "\n",
    "model_pipeline = [model1, model2, model3, model4]\n",
    "model_names = ['Decision Tree Regressor', 'Linear Regression', 'KNN', 'Random Forest']\n",
    "scores = {}\n",
    "\n",
    "for model, model_name in zip(model_pipeline, model_names):\n",
    "    mean_score = np.mean(cross_val_score(model, X_ready, y_train, cv=5))\n",
    "    scores[model_name] = mean_score\n",
    "print(scores)\n",
    "# We can use the result to choose the best performing model"
   ]
  },
  {
   "cell_type": "code",
   "execution_count": 97,
   "id": "6298d0d6",
   "metadata": {},
   "outputs": [],
   "source": [
    "# We can see the best results for a prediction come from a Random Forest Model. \n",
    "model4.fit(X_ready,y_train)\n",
    "pred = model4.predict(X_ready_test)"
   ]
  },
  {
   "cell_type": "code",
   "execution_count": 98,
   "id": "932f4a99",
   "metadata": {},
   "outputs": [
    {
     "data": {
      "text/plain": [
       "0.4320955722693036"
      ]
     },
     "execution_count": 98,
     "metadata": {},
     "output_type": "execute_result"
    }
   ],
   "source": [
    "mean_squared_error(pred,y_test)\n",
    "# We can see that the mean error squared for our prediction is 0.43, which is not bad."
   ]
  },
  {
   "cell_type": "code",
   "execution_count": 99,
   "id": "6929c018",
   "metadata": {},
   "outputs": [],
   "source": [
    "# But we can't draw conclusions from this kind of model (because of its very nature). We could check\n",
    "# the decision tree then, which is simpler, but feature importances can be misleading for high cardinality\n",
    "# features (many unique values), such as distance. So instead, let's create a linear model instead to draw \n",
    "# realconclusions"
   ]
  },
  {
   "cell_type": "code",
   "execution_count": 101,
   "id": "61a475ee",
   "metadata": {},
   "outputs": [
    {
     "data": {
      "text/html": [
       "<style>#sk-container-id-5 {color: black;background-color: white;}#sk-container-id-5 pre{padding: 0;}#sk-container-id-5 div.sk-toggleable {background-color: white;}#sk-container-id-5 label.sk-toggleable__label {cursor: pointer;display: block;width: 100%;margin-bottom: 0;padding: 0.3em;box-sizing: border-box;text-align: center;}#sk-container-id-5 label.sk-toggleable__label-arrow:before {content: \"▸\";float: left;margin-right: 0.25em;color: #696969;}#sk-container-id-5 label.sk-toggleable__label-arrow:hover:before {color: black;}#sk-container-id-5 div.sk-estimator:hover label.sk-toggleable__label-arrow:before {color: black;}#sk-container-id-5 div.sk-toggleable__content {max-height: 0;max-width: 0;overflow: hidden;text-align: left;background-color: #f0f8ff;}#sk-container-id-5 div.sk-toggleable__content pre {margin: 0.2em;color: black;border-radius: 0.25em;background-color: #f0f8ff;}#sk-container-id-5 input.sk-toggleable__control:checked~div.sk-toggleable__content {max-height: 200px;max-width: 100%;overflow: auto;}#sk-container-id-5 input.sk-toggleable__control:checked~label.sk-toggleable__label-arrow:before {content: \"▾\";}#sk-container-id-5 div.sk-estimator input.sk-toggleable__control:checked~label.sk-toggleable__label {background-color: #d4ebff;}#sk-container-id-5 div.sk-label input.sk-toggleable__control:checked~label.sk-toggleable__label {background-color: #d4ebff;}#sk-container-id-5 input.sk-hidden--visually {border: 0;clip: rect(1px 1px 1px 1px);clip: rect(1px, 1px, 1px, 1px);height: 1px;margin: -1px;overflow: hidden;padding: 0;position: absolute;width: 1px;}#sk-container-id-5 div.sk-estimator {font-family: monospace;background-color: #f0f8ff;border: 1px dotted black;border-radius: 0.25em;box-sizing: border-box;margin-bottom: 0.5em;}#sk-container-id-5 div.sk-estimator:hover {background-color: #d4ebff;}#sk-container-id-5 div.sk-parallel-item::after {content: \"\";width: 100%;border-bottom: 1px solid gray;flex-grow: 1;}#sk-container-id-5 div.sk-label:hover label.sk-toggleable__label {background-color: #d4ebff;}#sk-container-id-5 div.sk-serial::before {content: \"\";position: absolute;border-left: 1px solid gray;box-sizing: border-box;top: 0;bottom: 0;left: 50%;z-index: 0;}#sk-container-id-5 div.sk-serial {display: flex;flex-direction: column;align-items: center;background-color: white;padding-right: 0.2em;padding-left: 0.2em;position: relative;}#sk-container-id-5 div.sk-item {position: relative;z-index: 1;}#sk-container-id-5 div.sk-parallel {display: flex;align-items: stretch;justify-content: center;background-color: white;position: relative;}#sk-container-id-5 div.sk-item::before, #sk-container-id-5 div.sk-parallel-item::before {content: \"\";position: absolute;border-left: 1px solid gray;box-sizing: border-box;top: 0;bottom: 0;left: 50%;z-index: -1;}#sk-container-id-5 div.sk-parallel-item {display: flex;flex-direction: column;z-index: 1;position: relative;background-color: white;}#sk-container-id-5 div.sk-parallel-item:first-child::after {align-self: flex-end;width: 50%;}#sk-container-id-5 div.sk-parallel-item:last-child::after {align-self: flex-start;width: 50%;}#sk-container-id-5 div.sk-parallel-item:only-child::after {width: 0;}#sk-container-id-5 div.sk-dashed-wrapped {border: 1px dashed gray;margin: 0 0.4em 0.5em 0.4em;box-sizing: border-box;padding-bottom: 0.4em;background-color: white;}#sk-container-id-5 div.sk-label label {font-family: monospace;font-weight: bold;display: inline-block;line-height: 1.2em;}#sk-container-id-5 div.sk-label-container {text-align: center;}#sk-container-id-5 div.sk-container {/* jupyter's `normalize.less` sets `[hidden] { display: none; }` but bootstrap.min.css set `[hidden] { display: none !important; }` so we also need the `!important` here to be able to override the default hidden behavior on the sphinx rendered scikit-learn.org. See: https://github.com/scikit-learn/scikit-learn/issues/21755 */display: inline-block !important;position: relative;}#sk-container-id-5 div.sk-text-repr-fallback {display: none;}</style><div id=\"sk-container-id-5\" class=\"sk-top-container\"><div class=\"sk-text-repr-fallback\"><pre>LinearRegression()</pre><b>In a Jupyter environment, please rerun this cell to show the HTML representation or trust the notebook. <br />On GitHub, the HTML representation is unable to render, please try loading this page with nbviewer.org.</b></div><div class=\"sk-container\" hidden><div class=\"sk-item\"><div class=\"sk-estimator sk-toggleable\"><input class=\"sk-toggleable__control sk-hidden--visually\" id=\"sk-estimator-id-5\" type=\"checkbox\" checked><label for=\"sk-estimator-id-5\" class=\"sk-toggleable__label sk-toggleable__label-arrow\">LinearRegression</label><div class=\"sk-toggleable__content\"><pre>LinearRegression()</pre></div></div></div></div></div>"
      ],
      "text/plain": [
       "LinearRegression()"
      ]
     },
     "execution_count": 101,
     "metadata": {},
     "output_type": "execute_result"
    }
   ],
   "source": [
    "model2 = LinearRegression()\n",
    "model2.fit(X_ready,y_train)"
   ]
  },
  {
   "cell_type": "code",
   "execution_count": 114,
   "id": "05364935",
   "metadata": {},
   "outputs": [
    {
     "data": {
      "text/plain": [
       "array([0.59107686, 0.14770159, 0.0324752 , 0.16657871, 0.01280593,\n",
       "       0.03233711, 0.00537148, 0.00093079, 0.01072233])"
      ]
     },
     "execution_count": 114,
     "metadata": {},
     "output_type": "execute_result"
    }
   ],
   "source": [
    "model1 = LinearRegression()\n",
    "model1.fit(X_ready,y_train)\n",
    "model.feature_importances_"
   ]
  },
  {
   "cell_type": "code",
   "execution_count": 104,
   "id": "12f2a860",
   "metadata": {},
   "outputs": [
    {
     "data": {
      "text/plain": [
       "[('distance', 0.1269714792490813),\n",
       " ('speed', -1.2988119031855176),\n",
       " ('temp_inside', -0.176840347404285),\n",
       " ('temp_outside', -1.3615309402639717),\n",
       " ('AC', 0.422555369466849),\n",
       " ('rain', 0.5464069300014099),\n",
       " ('sun', -0.23136501432595633),\n",
       " ('snow', -0.4728634577014702),\n",
       " ('gas_type_SP98', -0.11882799466966032)]"
      ]
     },
     "execution_count": 104,
     "metadata": {},
     "output_type": "execute_result"
    }
   ],
   "source": [
    "# We have many columns, let's see how each one affect the consumption:\n",
    "list(zip(X_ready.columns,model2.coef_))"
   ]
  },
  {
   "cell_type": "markdown",
   "id": "c3a64ed6",
   "metadata": {},
   "source": [
    "We can see that when we isolate changes in the other variables, and we only focus ouserselves in the gas type, having a gas type **SP98** corresponds to a decrease of consumption of 0.12 (which is bigger than the one we would have assume by looking at the first bar plot ~0.03). This means you're saving 2.4% in comsuption with SP98 per trip. \n",
    "\n",
    "We however can not talk about money without their prices (data which is missing from the database). However, checking some websites online we can see that on france the prices for E10 are 20% cheaper than SP98, meaning that even though the old SP98 might be a bit more efficient, you'll end up wasting more money. \n",
    "\n",
    "In addition to this, the company is concerned about the growing rates of consumption in their rides. As we can see from our model, factors that contribute up to 40 times more to this issue are:\n",
    "- slow speeds\n",
    "- low temperatures\n",
    "- Having the air conditioner ON\n",
    "- If it's raining\n",
    "- If it's too sunny\n",
    "- distance of the ride\n",
    "\n",
    "We would need to study how these features have changed through time in this area, because it's probable that the increase of consumption arise from one of those factors.\n",
    "\n",
    "**If I would've had more time I would have removed outliers (if there were any), and also create a longer tableau presentation to show the results of this analysis with graphs**"
   ]
  }
 ],
 "metadata": {
  "kernelspec": {
   "display_name": "Python 3 (ipykernel)",
   "language": "python",
   "name": "python3"
  },
  "language_info": {
   "codemirror_mode": {
    "name": "ipython",
    "version": 3
   },
   "file_extension": ".py",
   "mimetype": "text/x-python",
   "name": "python",
   "nbconvert_exporter": "python",
   "pygments_lexer": "ipython3",
   "version": "3.10.6"
  }
 },
 "nbformat": 4,
 "nbformat_minor": 5
}
